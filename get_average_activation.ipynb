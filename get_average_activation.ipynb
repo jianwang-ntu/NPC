{
 "cells": [
  {
   "cell_type": "code",
   "execution_count": null,
   "metadata": {},
   "outputs": [],
   "source": [
    "import pickle\n",
    "import torch\n",
    "import torch.nn as nn\n",
    "import numpy as np\n",
    "\n",
    "import sys\n",
    "sys.path.append(\"models\")\n",
    "from VGG_16 import VGG16\n",
    "import os\n",
    "import torchvision\n",
    "import torchvision.transforms as transforms\n",
    "from collections import Counter\n",
    "import torchvision.datasets as datasets\n",
    "import random\n",
    "import torch.utils.data as Data\n",
    "import torch.nn.functional as F\n",
    "import argparse\n",
    "from resnet import *\n",
    "from model_mask_resnet import *\n",
    "from model_mask_vgg import mask_VGG16\n",
    "from AlexNet_SVHN_activation import AlexNet"
   ]
  },
  {
   "cell_type": "code",
   "execution_count": null,
   "metadata": {},
   "outputs": [],
   "source": [
    "ori_model = AlexNet(num_classes=10)\n",
    "model_path = \"./trained_models/alexnet_lr0.0001_39.pkl\"\n",
    "checkpoint = torch.load(model_path)\n",
    "ori_model.load_state_dict(checkpoint)\n",
    "\n",
    "ori_model = ori_model.cuda()\n",
    "ori_model.eval()"
   ]
  },
  {
   "cell_type": "code",
   "execution_count": null,
   "metadata": {},
   "outputs": [],
   "source": [
    "transform_test = transforms.Compose([\n",
    "            transforms.ToTensor(),\n",
    "    ])\n",
    "\n",
    "dataset = torchvision.datasets.SVHN(\n",
    "        root = './data/SVHN',\n",
    "        split=\"train\",\n",
    "        transform = transform_test,\n",
    "        download = False)\n",
    "data_loader = Data.DataLoader(dataset=dataset, batch_size=1, shuffle=False)"
   ]
  },
  {
   "cell_type": "code",
   "execution_count": null,
   "metadata": {},
   "outputs": [],
   "source": [
    "feature_size = [64, 192, 384, 256, 256]\n",
    "\n",
    "start_index = 0\n",
    "mean_features_specialUnits = {}\n",
    "mean_features_regularUnits = {}\n",
    "num_special = {}\n",
    "num_regular = {}\n",
    "\n",
    "with torch.no_grad():\n",
    "    sample_num = 0\n",
    "    for step, (x, y) in enumerate(dataloader):    \n",
    "        print(\"step:\", step)\n",
    "        batch_size = x.size(0)\n",
    "        start_index += x.size(0)\n",
    "        x = x.cuda()       \n",
    "        target, feature_dict = model(x)      \n",
    "        target = torch.max(target.data, 1)[1].data\n",
    "      \n",
    "        for k in range(5):\n",
    "            units = paths[start_index][][k]\n",
    "            conv_name = \"feat_conv{}_relu\".format(k+1)\n",
    "            for i, unit in enumerate(units):\n",
    "                if step == 0:\n",
    "                    num_special[conv_name] += 1\n",
    "                m = feature_dict[conv_name][:, unit, :, :]\n",
    "                mean_features_specialUnits[conv_name] += m.abs().sum().item()\n",
    "\n",
    "        for k in range(5):\n",
    "            conv_name = \"feat_conv{}_relu\".format(k+1)        \n",
    "            for unit in range(feature_dict[conv_name].size(1)):            \n",
    "                if not unit in units_clean[k]:\n",
    "                    if step == 0:\n",
    "                        num_regular[conv_name] += 1\n",
    "                    m = feature_dict[conv_name][:, unit, :, :]\n",
    "                    mean_features_regularUnits[conv_name] += m.abs().sum().item()\n",
    "                    \n",
    "for k in mean_features_specialUnits.keys():\n",
    "    print(mean_features_specialUnits[k] / num_special[k] / sample_num)\n",
    "print(\"!!!\")\n",
    "for k in mean_features_regularUnits.keys():\n",
    "    print(mean_features_regularUnits[k] / num_regular[k] / sample_num)\n",
    "# print(mean_feature_abs)\n",
    "\n",
    "print(num_regular, num_special)"
   ]
  },
  {
   "cell_type": "code",
   "execution_count": null,
   "metadata": {},
   "outputs": [],
   "source": []
  },
  {
   "cell_type": "code",
   "execution_count": null,
   "metadata": {},
   "outputs": [],
   "source": []
  },
  {
   "cell_type": "code",
   "execution_count": null,
   "metadata": {},
   "outputs": [],
   "source": []
  },
  {
   "cell_type": "code",
   "execution_count": null,
   "metadata": {},
   "outputs": [],
   "source": []
  }
 ],
 "metadata": {
  "kernelspec": {
   "display_name": "Python 3",
   "language": "python",
   "name": "python3"
  },
  "language_info": {
   "codemirror_mode": {
    "name": "ipython",
    "version": 3
   },
   "file_extension": ".py",
   "mimetype": "text/x-python",
   "name": "python",
   "nbconvert_exporter": "python",
   "pygments_lexer": "ipython3",
   "version": "3.7.7"
  }
 },
 "nbformat": 4,
 "nbformat_minor": 4
}
